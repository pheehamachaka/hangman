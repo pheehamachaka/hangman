{
 "cells": [
  {
   "cell_type": "code",
   "execution_count": null,
   "metadata": {},
   "outputs": [],
   "source": [
    "import numpy as np\n",
    "from random import randint\n",
    "import re"
   ]
  },
  {
   "cell_type": "code",
   "execution_count": 6,
   "metadata": {},
   "outputs": [],
   "source": [
    "class hangman:\n",
    "    \"\"\" Class defining the Hangman game: \n",
    "    - possible_words: attribute that contains a list of words.\n",
    "    - word_to_find: attribute that contains a list of strings. Each element will be a letter of the word.\n",
    "    - lives: attribute that contains the number of lives that the player still has left. It should start at 5.\n",
    "    - correctly_guessed_letters: attribute that contains a list of strings where each element will be a letter guessed by the user.\n",
    "    - wrongly_guessed_letters: attribute that contains a list of strings where each element will be a letter guessed by the user that is not in the word_to_find.\n",
    "    - turn_count: attribute that contain the number of turns played by the player.\n",
    "    - error_count: attribute that contains the number of errors made by the player.\n",
    "    - \n",
    "    \"\"\"\n",
    "\n",
    "    #Class variables\n",
    "    possible_words = ['becode', 'learning', 'mathematics', 'sessions']\n",
    "    word_to_find = []\n",
    "    lives = 5\n",
    "    correctly_guessed_letters = []\n",
    "    wrongly_guessed_letters = []\n",
    "    turn_count = 0\n",
    "    error_count = 0\n",
    "           \n",
    "\n",
    "    def play():\n",
    "        \"\"\"method that asks the player to enter a letter\n",
    "        \"\"\"\n",
    "\n",
    "        #select one word from the list and breaks it into a list of letters\n",
    "        hangman.word_to_find = re.findall(\"\\w\",(hangman.possible_words[randint(0,len(hangman.possible_words)-1)]).upper())\n",
    "        hangman.correctly_guessed_letters = [\"\"]*len(hangman.word_to_find)\n",
    "\n",
    "        guessed_letter = input(\"Guess one letter for the word: \\n\")\n",
    "        if re.match(\"\\w\", guessed_letter):\n",
    "            guessed_letter = guessed_letter.upper()\n",
    "            print(\"The letter entered is : {guessed_letter}\")\n",
    "            if guessed_letter in hangman.word_to_find:\n",
    "                letter_index = np.where(hangman.word_to_find == guessed_letter) # find location of letter index\n",
    "                hangman.correctly_guessed_letters[letter_index] = guessed_letter # replace the letter suggested by user\n",
    "                return True\n",
    "            else:\n",
    "                hangman.wrongly_guessed_letters.append(guessed_letter)\n",
    "                hangman.error_count += 1\n",
    "                return False\n",
    "        else:\n",
    "            print(\"You did not enter a letter.\")\n",
    "            return False\n",
    "\n",
    "    def well_played():\n",
    "        \"\"\"method that will provide a game summary if game is won\"\"\"\n",
    "        print(f\"You found the word: {hangman.word_to_find} in {hangman.turn_count} turns with {hangman.error_count} errors!\")\n",
    "\n",
    "    def game_over():\n",
    "        \"\"\"method that will stop the game\"\"\"\n",
    "        print(\"------------------ \\n Game Over \\n ------------------\\n\")\n",
    "\n",
    "    def start_game():\n",
    "        \"\"\"method that starts the game\"\"\"\n",
    "        while(hangman.lives>0):\n",
    "            if (hangman.play()):\n",
    "                hangman.turn_count += 1\n",
    "                if(hangman.correctly_guessed_letters == hangman.word_to_find):\n",
    "                    hangman.well_played()\n",
    "                    break;\n",
    "            else:\n",
    "                hangman.turn_count += 1\n",
    "                hangman.lives =-1\n",
    "        else:\n",
    "            hangman.game_over()\n",
    "    \n",
    "\n",
    "    "
   ]
  },
  {
   "cell_type": "code",
   "execution_count": 7,
   "metadata": {},
   "outputs": [],
   "source": [
    "hangman1 = hangman() "
   ]
  },
  {
   "cell_type": "code",
   "execution_count": 8,
   "metadata": {},
   "outputs": [
    {
     "ename": "TypeError",
     "evalue": "hangman.start_game() takes 0 positional arguments but 1 was given",
     "output_type": "error",
     "traceback": [
      "\u001b[0;31m---------------------------------------------------------------------------\u001b[0m",
      "\u001b[0;31mTypeError\u001b[0m                                 Traceback (most recent call last)",
      "Cell \u001b[0;32mIn [8], line 1\u001b[0m\n\u001b[0;32m----> 1\u001b[0m \u001b[43mhangman1\u001b[49m\u001b[38;5;241;43m.\u001b[39;49m\u001b[43mstart_game\u001b[49m\u001b[43m(\u001b[49m\u001b[43m)\u001b[49m\n",
      "\u001b[0;31mTypeError\u001b[0m: hangman.start_game() takes 0 positional arguments but 1 was given"
     ]
    }
   ],
   "source": [
    "hangman1.start_game()"
   ]
  }
 ],
 "metadata": {
  "kernelspec": {
   "display_name": "Python 3.10.4 64-bit",
   "language": "python",
   "name": "python3"
  },
  "language_info": {
   "codemirror_mode": {
    "name": "ipython",
    "version": 3
   },
   "file_extension": ".py",
   "mimetype": "text/x-python",
   "name": "python",
   "nbconvert_exporter": "python",
   "pygments_lexer": "ipython3",
   "version": "3.10.4"
  },
  "orig_nbformat": 4,
  "vscode": {
   "interpreter": {
    "hash": "916dbcbb3f70747c44a77c7bcd40155683ae19c65e1c03b4aa3499c5328201f1"
   }
  }
 },
 "nbformat": 4,
 "nbformat_minor": 2
}
